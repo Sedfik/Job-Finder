{
 "cells": [
  {
   "cell_type": "code",
   "execution_count": 7,
   "metadata": {},
   "outputs": [],
   "source": [
    "import pandas as pd\n",
    "import numpy\n",
    "from sklearn.ensemble import RandomForestClassifier\n",
    "import pickle\n",
    "import os"
   ]
  },
  {
   "cell_type": "code",
   "execution_count": 20,
   "metadata": {},
   "outputs": [],
   "source": [
    "myForest=RandomForestClassifier()"
   ]
  },
  {
   "cell_type": "code",
   "execution_count": 21,
   "metadata": {},
   "outputs": [
    {
     "data": {
      "text/plain": [
       "RandomForestClassifier(bootstrap=True, ccp_alpha=0.0, class_weight=None,\n",
       "                       criterion='gini', max_depth=None, max_features='auto',\n",
       "                       max_leaf_nodes=None, max_samples=None,\n",
       "                       min_impurity_decrease=0.0, min_impurity_split=None,\n",
       "                       min_samples_leaf=1, min_samples_split=2,\n",
       "                       min_weight_fraction_leaf=0.0, n_estimators=100,\n",
       "                       n_jobs=None, oob_score=False, random_state=None,\n",
       "                       verbose=0, warm_start=False)"
      ]
     },
     "execution_count": 21,
     "metadata": {},
     "output_type": "execute_result"
    }
   ],
   "source": [
    "myForest"
   ]
  },
  {
   "cell_type": "code",
   "execution_count": 32,
   "metadata": {},
   "outputs": [],
   "source": [
    "filename = 'randomforest.sav'\n",
    "pickle.dump(myForest, open(filename, 'wb'))\n"
   ]
  },
  {
   "cell_type": "code",
   "execution_count": 28,
   "metadata": {},
   "outputs": [
    {
     "data": {
      "text/plain": [
       "'randomforest.pickle'"
      ]
     },
     "execution_count": 28,
     "metadata": {},
     "output_type": "execute_result"
    }
   ],
   "source": [
    "os.path.expandvars('randomforest.pickle')"
   ]
  },
  {
   "cell_type": "code",
   "execution_count": null,
   "metadata": {},
   "outputs": [],
   "source": []
  },
  {
   "cell_type": "code",
   "execution_count": 4,
   "metadata": {},
   "outputs": [],
   "source": [
    "m=pickle.load(open(\"randomforest.sav\",\"rb\"))"
   ]
  },
  {
   "cell_type": "code",
   "execution_count": 65,
   "metadata": {},
   "outputs": [],
   "source": [
    "test=pd.read_csv(\"../../Database/Kaggle/Train_rev1.csv\")"
   ]
  },
  {
   "cell_type": "code",
   "execution_count": 73,
   "metadata": {},
   "outputs": [
    {
     "data": {
      "text/html": [
       "<div>\n",
       "<style scoped>\n",
       "    .dataframe tbody tr th:only-of-type {\n",
       "        vertical-align: middle;\n",
       "    }\n",
       "\n",
       "    .dataframe tbody tr th {\n",
       "        vertical-align: top;\n",
       "    }\n",
       "\n",
       "    .dataframe thead th {\n",
       "        text-align: right;\n",
       "    }\n",
       "</style>\n",
       "<table border=\"1\" class=\"dataframe\">\n",
       "  <thead>\n",
       "    <tr style=\"text-align: right;\">\n",
       "      <th></th>\n",
       "      <th>Id</th>\n",
       "      <th>Title</th>\n",
       "      <th>FullDescription</th>\n",
       "      <th>LocationRaw</th>\n",
       "      <th>LocationNormalized</th>\n",
       "      <th>ContractType</th>\n",
       "      <th>ContractTime</th>\n",
       "      <th>Company</th>\n",
       "      <th>Category</th>\n",
       "      <th>SalaryRaw</th>\n",
       "      <th>SalaryNormalized</th>\n",
       "      <th>SourceName</th>\n",
       "    </tr>\n",
       "  </thead>\n",
       "  <tbody>\n",
       "    <tr>\n",
       "      <th>2020</th>\n",
       "      <td>51860115</td>\n",
       "      <td>Financial Accountant</td>\n",
       "      <td>A leading Insurance/Reinsurance Business is cu...</td>\n",
       "      <td>London</td>\n",
       "      <td>London</td>\n",
       "      <td>full_time</td>\n",
       "      <td>permanent</td>\n",
       "      <td>CMC Consulting Limited</td>\n",
       "      <td>Accounting &amp; Finance Jobs</td>\n",
       "      <td>40,000 - 50,000 + Bonus + B</td>\n",
       "      <td>45000</td>\n",
       "      <td>myjobs.cimaglobal.com</td>\n",
       "    </tr>\n",
       "    <tr>\n",
       "      <th>2089</th>\n",
       "      <td>52314212</td>\n",
       "      <td>Commercial Finance Analyst</td>\n",
       "      <td>Our client, has an unrivalled opportunity for ...</td>\n",
       "      <td>Bedfordshire</td>\n",
       "      <td>Bedfordshire</td>\n",
       "      <td>full_time</td>\n",
       "      <td>permanent</td>\n",
       "      <td>CMC Consulting Limited</td>\n",
       "      <td>Accounting &amp; Finance Jobs</td>\n",
       "      <td>25,000 - 35,000</td>\n",
       "      <td>30000</td>\n",
       "      <td>myjobs.cimaglobal.com</td>\n",
       "    </tr>\n",
       "    <tr>\n",
       "      <th>2228</th>\n",
       "      <td>53633132</td>\n",
       "      <td>Financial Accountant</td>\n",
       "      <td>Our client, a leading Insurance company, is cu...</td>\n",
       "      <td>London</td>\n",
       "      <td>London</td>\n",
       "      <td>full_time</td>\n",
       "      <td>permanent</td>\n",
       "      <td>CMC Consulting Limited</td>\n",
       "      <td>Accounting &amp; Finance Jobs</td>\n",
       "      <td>40,000 - 45,000 + Bonus + B</td>\n",
       "      <td>42500</td>\n",
       "      <td>myjobs.cimaglobal.com</td>\n",
       "    </tr>\n",
       "    <tr>\n",
       "      <th>2229</th>\n",
       "      <td>53636956</td>\n",
       "      <td>Commercial Analyst</td>\n",
       "      <td>My client, a market leading software company, ...</td>\n",
       "      <td>Berkshire</td>\n",
       "      <td>Berkshire</td>\n",
       "      <td>full_time</td>\n",
       "      <td>permanent</td>\n",
       "      <td>CMC Consulting Limited</td>\n",
       "      <td>Accounting &amp; Finance Jobs</td>\n",
       "      <td>50,000 - 55,000 + Benefits</td>\n",
       "      <td>52500</td>\n",
       "      <td>myjobs.cimaglobal.com</td>\n",
       "    </tr>\n",
       "    <tr>\n",
       "      <th>2341</th>\n",
       "      <td>54664853</td>\n",
       "      <td>Teachers</td>\n",
       "      <td>iday s unrivalled originality has captured the...</td>\n",
       "      <td>Norfolk</td>\n",
       "      <td>Norfolk</td>\n",
       "      <td>part_time</td>\n",
       "      <td>contract</td>\n",
       "      <td>Engage Education</td>\n",
       "      <td>Teaching Jobs</td>\n",
       "      <td>100 - 145/day</td>\n",
       "      <td>29400</td>\n",
       "      <td>cv-library.co.uk</td>\n",
       "    </tr>\n",
       "  </tbody>\n",
       "</table>\n",
       "</div>"
      ],
      "text/plain": [
       "            Id                       Title  \\\n",
       "2020  51860115        Financial Accountant   \n",
       "2089  52314212  Commercial Finance Analyst   \n",
       "2228  53633132        Financial Accountant   \n",
       "2229  53636956          Commercial Analyst   \n",
       "2341  54664853                    Teachers   \n",
       "\n",
       "                                        FullDescription   LocationRaw  \\\n",
       "2020  A leading Insurance/Reinsurance Business is cu...        London   \n",
       "2089  Our client, has an unrivalled opportunity for ...  Bedfordshire   \n",
       "2228  Our client, a leading Insurance company, is cu...        London   \n",
       "2229  My client, a market leading software company, ...     Berkshire   \n",
       "2341  iday s unrivalled originality has captured the...       Norfolk   \n",
       "\n",
       "     LocationNormalized ContractType ContractTime                 Company  \\\n",
       "2020             London    full_time    permanent  CMC Consulting Limited   \n",
       "2089       Bedfordshire    full_time    permanent  CMC Consulting Limited   \n",
       "2228             London    full_time    permanent  CMC Consulting Limited   \n",
       "2229          Berkshire    full_time    permanent  CMC Consulting Limited   \n",
       "2341            Norfolk    part_time     contract        Engage Education   \n",
       "\n",
       "                       Category                    SalaryRaw  \\\n",
       "2020  Accounting & Finance Jobs  40,000 - 50,000 + Bonus + B   \n",
       "2089  Accounting & Finance Jobs              25,000 - 35,000   \n",
       "2228  Accounting & Finance Jobs  40,000 - 45,000 + Bonus + B   \n",
       "2229  Accounting & Finance Jobs   50,000 - 55,000 + Benefits   \n",
       "2341              Teaching Jobs                100 - 145/day   \n",
       "\n",
       "      SalaryNormalized             SourceName  \n",
       "2020             45000  myjobs.cimaglobal.com  \n",
       "2089             30000  myjobs.cimaglobal.com  \n",
       "2228             42500  myjobs.cimaglobal.com  \n",
       "2229             52500  myjobs.cimaglobal.com  \n",
       "2341             29400       cv-library.co.uk  "
      ]
     },
     "execution_count": 73,
     "metadata": {},
     "output_type": "execute_result"
    }
   ],
   "source": [
    "test.head()"
   ]
  },
  {
   "cell_type": "code",
   "execution_count": 62,
   "metadata": {},
   "outputs": [
    {
     "name": "stderr",
     "output_type": "stream",
     "text": [
      "[Parallel(n_jobs=1)]: Using backend SequentialBackend with 1 concurrent workers.\n",
      "[Parallel(n_jobs=1)]: Done   1 out of   1 | elapsed:    0.0s remaining:    0.0s\n",
      "[Parallel(n_jobs=1)]: Done  50 out of  50 | elapsed:    0.0s finished\n"
     ]
    },
    {
     "data": {
      "text/plain": [
       "array([30408.66368464, 33232.63432104, 31907.12796063])"
      ]
     },
     "execution_count": 62,
     "metadata": {},
     "output_type": "execute_result"
    }
   ],
   "source": [
    "m.predict(test)"
   ]
  },
  {
   "cell_type": "code",
   "execution_count": 61,
   "metadata": {},
   "outputs": [],
   "source": [
    "test=test.loc[[0,1,3]]\n",
    "test=test[liste]"
   ]
  },
  {
   "cell_type": "code",
   "execution_count": 50,
   "metadata": {},
   "outputs": [],
   "source": [
    "test=test.loc[[0,1,3]]\n"
   ]
  },
  {
   "cell_type": "code",
   "execution_count": 30,
   "metadata": {},
   "outputs": [],
   "source": [
    "liste=test.columns"
   ]
  },
  {
   "cell_type": "code",
   "execution_count": 46,
   "metadata": {},
   "outputs": [],
   "source": [
    "liste=['Id', 'Title', 'FullDescription', 'LocationRaw', 'LocationNormalized',\n",
    "       'ContractType', 'ContractTime', 'Company', 'Category',\n",
    "        'SourceName']"
   ]
  },
  {
   "cell_type": "code",
   "execution_count": 63,
   "metadata": {},
   "outputs": [],
   "source": [
    "liste=pd.read_csv(\"../../Database/Kaggle/Test_rev1.csv\")"
   ]
  },
  {
   "cell_type": "code",
   "execution_count": 71,
   "metadata": {},
   "outputs": [],
   "source": [
    "test=test.dropna()\n",
    "y_test=test[\"SalaryNormalized\"]\n",
    "x_test=test[liste.columns]"
   ]
  },
  {
   "cell_type": "code",
   "execution_count": 72,
   "metadata": {},
   "outputs": [
    {
     "name": "stderr",
     "output_type": "stream",
     "text": [
      "[Parallel(n_jobs=1)]: Using backend SequentialBackend with 1 concurrent workers.\n",
      "[Parallel(n_jobs=1)]: Done   1 out of   1 | elapsed:    0.0s remaining:    0.0s\n",
      "[Parallel(n_jobs=1)]: Done  50 out of  50 | elapsed:    0.6s finished\n"
     ]
    },
    {
     "data": {
      "text/plain": [
       "0.7702034005439145"
      ]
     },
     "execution_count": 72,
     "metadata": {},
     "output_type": "execute_result"
    }
   ],
   "source": [
    "m.score(x_test,y_test)"
   ]
  },
  {
   "cell_type": "code",
   "execution_count": null,
   "metadata": {},
   "outputs": [],
   "source": []
  }
 ],
 "metadata": {
  "kernelspec": {
   "display_name": "Python 3",
   "language": "python",
   "name": "python3"
  },
  "language_info": {
   "codemirror_mode": {
    "name": "ipython",
    "version": 3
   },
   "file_extension": ".py",
   "mimetype": "text/x-python",
   "name": "python",
   "nbconvert_exporter": "python",
   "pygments_lexer": "ipython3",
   "version": "3.6.9"
  }
 },
 "nbformat": 4,
 "nbformat_minor": 4
}
